{
  "nbformat": 4,
  "nbformat_minor": 0,
  "metadata": {
    "colab": {
      "provenance": []
    },
    "kernelspec": {
      "name": "python3",
      "display_name": "Python 3"
    },
    "language_info": {
      "name": "python"
    }
  },
  "cells": [
    {
      "cell_type": "markdown",
      "source": [
        "Que1. What is the difference between interpreted and complied languages?\n",
        "ans.  Interpreted languages run code line by line (example- python)\n",
        "      Compiled languages converet the entire code to machine language before execution (example- c++)\n",
        "\n",
        "\n",
        "Que2. What is exception handling in python?\n",
        "ans.  Exception handling allows the program to deal with runtime errors using\n",
        "      try, except, else, and finally blocks.\n",
        "\n",
        "\n",
        "Que3. What is the purpose of the finally block in exception handling?\n",
        "ans.  The finally block executes no matter what, whether an exception occurs or\n",
        "      not. It's used for cleanup.\n",
        "\n",
        "\n",
        "Que4. What is logging in python?\n",
        "ans.  Logging is a way to track events that happen when the software runs. It's\n",
        "      useful for debugging and monitoring.\n",
        "\n",
        "\n",
        "Que5. What is the significance of the __del__ method in Python?\n",
        "ans.  __del__ is a destructor method that is called when an object is about to\n",
        "      be destroyed. Used for cleanup.\n",
        "\n",
        "\n",
        "Que6. What is the difference between import and from import in python?\n",
        "ans.  * import module imports the whole module.\n",
        "      * from module import something imports specific parts of the module.\n",
        "\n",
        "\n",
        "Que7. How can you handle multiple exceptions in python?\n",
        "\n",
        "      \n",
        "\n"
      ],
      "metadata": {
        "id": "wgoE9_p68KiE"
      }
    },
    {
      "cell_type": "code",
      "source": [
        "try:\n",
        "  #risky code\n",
        "except (TypeError, ValueError) as e:\n",
        "  print(e)"
      ],
      "metadata": {
        "id": "7i9Nk3i8AKqB"
      },
      "execution_count": null,
      "outputs": []
    },
    {
      "cell_type": "markdown",
      "source": [
        "Que8. What is the purpose of the with statement when handling files in python?\n",
        "ans.  It automatically handles file closing."
      ],
      "metadata": {
        "id": "aqIR5zPOAhu_"
      }
    },
    {
      "cell_type": "code",
      "source": [
        "with open('file.txt', 'r') as f:\n",
        "  data= f.read()"
      ],
      "metadata": {
        "id": "xHrTw4HzA1SR"
      },
      "execution_count": null,
      "outputs": []
    },
    {
      "cell_type": "markdown",
      "source": [
        "Que9. What is the difference between multithreading and multiprocessing?\n",
        "ans.  * Multithreading: multiple threads in one process.\n",
        "      * Multiprocessing: multiple processes.\n",
        "\n",
        "\n",
        "Que10. What are the advantages of using logging in a program?\n",
        "ans.   * Debugging\n",
        "       * Tracking errors\n",
        "       * Monitoring software behaviour\n",
        "       * Better than using print () for tracing.\n",
        "\n",
        "\n",
        "Que11. What is memory management in python?\n",
        "ans.   It refers to handling memory allocation and deallocation automatically\n",
        "       using reference counting and garbage collection.\n",
        "\n",
        "\n",
        "Que12. What is the basic steps involved in exception handling in python?\n",
        "ans.   * Use try to write risky code.\n",
        "       * catch exceptions with except.\n",
        "       * use else if no exception occurs.\n",
        "       * use finally for cleanup code.\n",
        "\n",
        "\n",
        "Que13. Why is memory management important in python?\n",
        "ans.   * Prevents memory leaks.\n",
        "       * Improves performance.\n",
        "       * Ensures efficient use of resource.\n",
        "\n",
        "\n",
        "Que14. What is the role of try and except in exception handling?\n",
        "ans.   * try: block where exceptions may occur.\n",
        "       * except: block that catches and handles the exception.\n",
        "\n",
        "\n",
        "Que15. How does python's garbage collection system work?\n",
        "ans.   Pythons uses reference counting and a cyclic garbage collector to reclaim\n",
        "       unused memory automatically.\n",
        "\n",
        "\n",
        "Que16. What is the purpose of the else block in exception handling?\n",
        "ans.   The else block runs if no exception occurs in the try block.\n",
        "\n",
        "Que17. What are the common logging levels in python?\n",
        "ans.   Debug, Info, Warning, Error, Critical.\n",
        "\n",
        "\n",
        "Que18. What is the difference between os. fork() and multiprocessing in python?\n",
        "ans.   * os.fork() is unix-specific and directly creates a child process.\n",
        "       * multiprocessing is cross platform and provides a high level interface\n",
        "         to run processes.\n",
        "\n",
        "\n",
        "Que19. What is the importance of closing a file in python?\n",
        "ans.   * Free up system resources.\n",
        "       * Ensures data is written from the buffer to the file (important for\n",
        "        saving).\n",
        "        * Avoids file corruption or data loss.\n",
        "\n",
        "\n",
        "Que20. What is the difference between file.read() ans file.readline() in python?\n",
        "ans.   1. file.read(): Reads the entire file content as a single string.\n",
        "       2. file.readline(): Reads one line from the file at a time.\n",
        "\n",
        "\n",
        "Que21. What is the logging module in python used for?\n",
        "ans.   The logging module is used to record messages (logs) about the execution\n",
        "      of a program. It helps in debugging, tracking errors, and monitoring.\n",
        "\n",
        "\n",
        "Que22. What is the os module in python used for in file handling?\n",
        "ans.   The os module provides functions to interact with the operating system,\n",
        "       such as:\n",
        "\n",
        "       * creating/deleting files and directories\n",
        "       * Navigating the files system.\n",
        "       * Getting file properties.\n",
        "\n",
        "\n",
        "Que23. What are the challenges associated with memory management in python?\n",
        "ans.   * Automatic garbage collection can sometimes cause unexcepted delays.\n",
        "       * Reference cycles can prevent memory from being released.\n",
        "       * Memory leaks if objects are not dereferenced properly.\n",
        "       * Managing memory efficiently in large programs or when using external\n",
        "         libraries.\n",
        "\n",
        "\n",
        "Que24.  How do you raise an exception manually in python?\n",
        "  \n",
        "\n",
        "\n"
      ],
      "metadata": {
        "id": "jG-Ofxo2BJi_"
      }
    },
    {
      "cell_type": "code",
      "source": [
        "raise ValueError(\"This is a manually raised exception\")"
      ],
      "metadata": {
        "id": "KJ3YHjDtriBu"
      },
      "execution_count": null,
      "outputs": []
    },
    {
      "cell_type": "markdown",
      "source": [],
      "metadata": {
        "id": "a0PvlCWEsVLK"
      }
    },
    {
      "cell_type": "markdown",
      "source": [
        "Que25. Why is it important to use multithreading in certain application?\n",
        "ans.   *Improving performance in I/O- bound applications(eg- web scraping, file\n",
        "       reading).\n",
        "       \n",
        "      * Handling multiple tasks concurrently (e.g., downloading multiple files).\n",
        "\n",
        "      * Keeping the application responsive(e.g., GUI application)."
      ],
      "metadata": {
        "id": "j0U3bOXHrzCV"
      }
    },
    {
      "cell_type": "markdown",
      "source": [
        "                                            __PRACTICAL QUESTIONS__\n",
        "\n",
        "\n",
        "Que1. How can you open a file writing in python and write a string to it?"
      ],
      "metadata": {
        "id": "XuJQhOYWMXVv"
      }
    },
    {
      "cell_type": "code",
      "source": [
        "with open(\"example.txt\", 'w') as file:\n",
        "  file.write(\"Hello, this is a test string.\")"
      ],
      "metadata": {
        "id": "fhQc3zAOMtKz"
      },
      "execution_count": null,
      "outputs": []
    },
    {
      "cell_type": "markdown",
      "source": [
        "Que2. Read the cotents of a file and print each line?"
      ],
      "metadata": {
        "id": "NfsLSv8vM_fq"
      }
    },
    {
      "cell_type": "code",
      "source": [
        "with open(\"example.txt\", \"r\") as file:\n",
        "  for line in file:\n",
        "    print(line.strip())\n"
      ],
      "metadata": {
        "id": "qBDFSr8wM-oO"
      },
      "execution_count": null,
      "outputs": []
    },
    {
      "cell_type": "markdown",
      "source": [
        "Que3. Handle case when file doesn't exist?"
      ],
      "metadata": {
        "id": "ZykJnu6oNecR"
      }
    },
    {
      "cell_type": "code",
      "source": [
        "try:\n",
        "  with open(\"nofile.txt\", \"r\") as file:\n",
        "except FileNotFoundError:\n",
        "  print(\"file not found.\")\n"
      ],
      "metadata": {
        "id": "rlLDu1n8MPS3"
      },
      "execution_count": null,
      "outputs": []
    },
    {
      "cell_type": "markdown",
      "source": [
        "Que4. Copy content from one file to another?"
      ],
      "metadata": {
        "id": "DCJTwv96OBCM"
      }
    },
    {
      "cell_type": "code",
      "execution_count": null,
      "metadata": {
        "id": "lt98ss5u79LL"
      },
      "outputs": [],
      "source": [
        "with open(\"source.txt\", \"r\") as source,\n",
        "open(\"destination.txt\", \"w\") as dest:\n",
        "     dest.write(source.read())\n"
      ]
    },
    {
      "cell_type": "markdown",
      "source": [
        "Que5. Catch and handle division by zero?"
      ],
      "metadata": {
        "id": "2BHolFkIOiyO"
      }
    },
    {
      "cell_type": "code",
      "source": [
        "try:\n",
        "  result= 10 / 0\n",
        "except ZeroDivisionError:\n",
        "  print(\"Division by zero error!\")"
      ],
      "metadata": {
        "id": "IH6vV7T7Oha2"
      },
      "execution_count": null,
      "outputs": []
    },
    {
      "cell_type": "markdown",
      "source": [
        "Que6. Log division error to log file?"
      ],
      "metadata": {
        "id": "tHXg5ZSdPEyX"
      }
    },
    {
      "cell_type": "code",
      "source": [
        "import logging\n",
        "\n",
        "logging.basicConfig(filename= 'log,txt', level= logging.ERROR)\n",
        "\n",
        "try:\n",
        "  result= 10 / 0\n",
        "except ZeroDivisionError as e:\n",
        "  logging.error(\"Division by zero: %s\", e)"
      ],
      "metadata": {
        "id": "iDopGtoXOhg9"
      },
      "execution_count": null,
      "outputs": []
    },
    {
      "cell_type": "markdown",
      "source": [
        "Que7. Log at different levels?"
      ],
      "metadata": {
        "id": "RX_hwOpHP_G7"
      }
    },
    {
      "cell_type": "code",
      "source": [
        "import logging\n",
        "\n",
        "logging.basicConfig(level= logging.DEBUG)\n",
        "\n",
        "logging.debug(\"Debug message\")\n",
        "logging.info(\"Info message\")\n",
        "logging.warning(\"Warning message\")\n",
        "logging.error(\"Error message\")"
      ],
      "metadata": {
        "id": "lF6FClL0Ohl5"
      },
      "execution_count": null,
      "outputs": []
    },
    {
      "cell_type": "markdown",
      "source": [
        "Que8. Handle file opening error?"
      ],
      "metadata": {
        "id": "w_2vjJKcQyQP"
      }
    },
    {
      "cell_type": "code",
      "source": [
        "try:\n",
        "  with open(\"file.txt\", \"r\") as f:\n",
        "    print(f.read())\n",
        "except IoError:\n",
        "  print(\"Error opening file.\")"
      ],
      "metadata": {
        "id": "EDBcxspZOho0"
      },
      "execution_count": null,
      "outputs": []
    },
    {
      "cell_type": "markdown",
      "source": [
        "Que9. Read file line by line into a list?"
      ],
      "metadata": {
        "id": "EoJBclt3RWud"
      }
    },
    {
      "cell_type": "code",
      "source": [
        "lines= []\n",
        "with open(\"example.txt\", \"r\")  as file:\n",
        "  lines = file.readlines()\n",
        "print(lines)"
      ],
      "metadata": {
        "id": "Waw9GCt0QwgF"
      },
      "execution_count": null,
      "outputs": []
    },
    {
      "cell_type": "markdown",
      "source": [
        "Que10. Append data to file?"
      ],
      "metadata": {
        "id": "luxPzMleRyIC"
      }
    },
    {
      "cell_type": "code",
      "source": [
        "with open(\"example.txt\", \"a\") as file:\n",
        "  file.write(\"\\nAppend line.\")"
      ],
      "metadata": {
        "id": "5noPf_y_QwjL"
      },
      "execution_count": null,
      "outputs": []
    },
    {
      "cell_type": "markdown",
      "source": [
        "Que11. Handle keyError using try-except?"
      ],
      "metadata": {
        "id": "yZu1hyuNSSCH"
      }
    },
    {
      "cell_type": "code",
      "source": [
        "data = {\"name\": \"john\"}\n",
        "try:\n",
        "  print(data[\"age\"])\n",
        "except KeyError:\n",
        "  print(\"key not found!\")"
      ],
      "metadata": {
        "id": "l3Y_Ip0gQwml"
      },
      "execution_count": null,
      "outputs": []
    },
    {
      "cell_type": "markdown",
      "source": [
        "Que12. Use multiple except blocks?"
      ],
      "metadata": {
        "id": "hJIk568sS1tz"
      }
    },
    {
      "cell_type": "code",
      "source": [
        "try:\n",
        "  x= int(\"abc\")\n",
        "  y= [1, 2]\n",
        "  print(y[5])\n",
        "except ValueError:\n",
        "  print(\"ValueError occured\")\n",
        "except IndexError:\n",
        "  print(\"IndexError occurred\")\n"
      ],
      "metadata": {
        "id": "hA0FURB6Ohrt"
      },
      "execution_count": null,
      "outputs": []
    },
    {
      "cell_type": "markdown",
      "source": [
        "Que13. Check if file exists before reading?  "
      ],
      "metadata": {
        "id": "-wa6oLfnTjb7"
      }
    },
    {
      "cell_type": "code",
      "source": [
        "import os\n",
        "\n",
        "if os.path.exists(\"example,txt\"):\n",
        "  with open(\"example.txt\", \"r\") as file:\n",
        "    print(file.read())\n",
        "\n",
        "else:\n",
        "  print(\"File doesn't exist.\")\n"
      ],
      "metadata": {
        "id": "52TZsWlWOhun"
      },
      "execution_count": null,
      "outputs": []
    },
    {
      "cell_type": "markdown",
      "source": [
        "Que14. Log info and errors?"
      ],
      "metadata": {
        "id": "PNNMGxciUeQi"
      }
    },
    {
      "cell_type": "code",
      "source": [
        "import logging\n",
        "\n",
        "logging.basicConfig(filename= \"logfile.txt\", level= logging.DEBUG)\n",
        "\n",
        "logging.info(\"This is an info message.\")\n",
        "logging.error(\"This is an error message.\")"
      ],
      "metadata": {
        "id": "pw5CLBP8OhyB"
      },
      "execution_count": null,
      "outputs": []
    },
    {
      "cell_type": "markdown",
      "source": [
        "Que15. Handle empty file?"
      ],
      "metadata": {
        "id": "EB6BJva1VKRS"
      }
    },
    {
      "cell_type": "code",
      "source": [
        "with open(\"emptyfile.txt\", \"r\") as file:\n",
        "  content = file.read()\n",
        "  if not content:\n",
        "    print(\"File is empty.\")\n",
        "  else:\n",
        "    print(content)"
      ],
      "metadata": {
        "id": "UNRKOMBzVIz1"
      },
      "execution_count": null,
      "outputs": []
    },
    {
      "cell_type": "markdown",
      "source": [
        "Que16. Memory Profiling (requires memory_profiler)?"
      ],
      "metadata": {
        "id": "6S62UAkwVzpV"
      }
    },
    {
      "cell_type": "code",
      "source": [
        "# Install first: pip install memory-profiler\n",
        "from memory_profiler import profile\n",
        "\n",
        "@profile\n",
        "def tesr():\n",
        "  a= [i for i in range (10000)]\n",
        "\n",
        "test()"
      ],
      "metadata": {
        "id": "TFLfVXxeVI9y"
      },
      "execution_count": null,
      "outputs": []
    },
    {
      "cell_type": "markdown",
      "source": [
        "Que17. Write list of numbers to file?"
      ],
      "metadata": {
        "id": "igtgkaZnWkpn"
      }
    },
    {
      "cell_type": "code",
      "source": [
        "with open(\"numbers.txt\", \"w\") as file:\n",
        "  for i in range(1, 11):\n",
        "    file.write(f\"{i}\\n\")"
      ],
      "metadata": {
        "id": "8qDtD97qVJAp"
      },
      "execution_count": null,
      "outputs": []
    },
    {
      "cell_type": "markdown",
      "source": [
        "Que18. Basic logging with rotation (requires RotatingFileHandler)?"
      ],
      "metadata": {
        "id": "K8Kl4mEYXKCE"
      }
    },
    {
      "cell_type": "code",
      "source": [
        "import logging\n",
        "from logging.handler import RotatingFileHandler\n",
        "\n",
        "handler= RotatingFileHandler(\"rotate_log.txt\", maxBytes= 1024, backupcount= 3)\n",
        "logging.basicConfig(handlers=[handler], level= logging.INFO)\n",
        "\n",
        "for i in range(100):\n",
        "  logging.info(f\"Log entry {i}\")"
      ],
      "metadata": {
        "id": "6dGKsMRCVJDh"
      },
      "execution_count": null,
      "outputs": []
    },
    {
      "cell_type": "markdown",
      "source": [
        "Que19. Handle Index Error and Key Error?"
      ],
      "metadata": {
        "id": "Grf4cxWqPf-f"
      }
    },
    {
      "cell_type": "code",
      "source": [
        "try:\n",
        "  data= [1, 2, 3]\n",
        "  print(data[5])\n",
        "  info= {\"name\": \"Alice\"}\n",
        "  print(info[\"age\"])\n",
        "except IndexError:\n",
        "  print(\"Index out of range\")\n",
        "except KeyError:\n",
        "  print(\"key not found error\")\n"
      ],
      "metadata": {
        "id": "XNRFkeAmVJGk"
      },
      "execution_count": null,
      "outputs": []
    },
    {
      "cell_type": "markdown",
      "source": [
        "Que20. Open and read using context manager?"
      ],
      "metadata": {
        "id": "-_TWIHeAQYi1"
      }
    },
    {
      "cell_type": "code",
      "source": [
        "with open(\"example.txt\", \"r\") as file:\n",
        "  content= file.read()\n",
        "  print(content)"
      ],
      "metadata": {
        "id": "xgCBo7YpVJJy"
      },
      "execution_count": null,
      "outputs": []
    },
    {
      "cell_type": "markdown",
      "source": [
        "Que21. Count occurences of a word?"
      ],
      "metadata": {
        "id": "GoymdLXcQ24H"
      }
    },
    {
      "cell_type": "code",
      "source": [
        "word= \"python\"\n",
        "count= 0\n",
        "with open(\"example.txt\", \"r\") as file:\n",
        "  for line in file:\n",
        "    count += line.lower().count(word.lower())\n",
        "print(f\" '{word}' found {count} times.\")\n"
      ],
      "metadata": {
        "id": "9-CYtc17VJMp"
      },
      "execution_count": null,
      "outputs": []
    },
    {
      "cell_type": "markdown",
      "source": [
        "Que22. Check if file is empty?"
      ],
      "metadata": {
        "id": "izz47YlUS4EW"
      }
    },
    {
      "cell_type": "code",
      "source": [
        "import os\n",
        "\n",
        "if os.path.getsize(\"example.txt\") == 0:\n",
        "  print(\"File is empty\")\n",
        "else:\n",
        "  print(\"File is not empty\")\n"
      ],
      "metadata": {
        "id": "le3JZOs6VJPB"
      },
      "execution_count": null,
      "outputs": []
    },
    {
      "cell_type": "markdown",
      "source": [
        "Que23. Log error during file handling?\n"
      ],
      "metadata": {
        "id": "ZyuQxjZCTc0l"
      }
    },
    {
      "cell_type": "code",
      "source": [
        "import logging\n",
        "\n",
        "logging.basicConfig(filename= \"file_errors.log\", level= logging.ERROR)\n",
        "\n",
        "try:\n",
        "  with open(\"no_such_file.txt\", \"r\") as f:\n",
        "    print(f.read())\n",
        "except Exception as e:\n",
        "  logging.error(\"Error occured: %s\", e)"
      ],
      "metadata": {
        "id": "FwqJlAPiVJRo"
      },
      "execution_count": null,
      "outputs": []
    },
    {
      "cell_type": "code",
      "source": [],
      "metadata": {
        "id": "J_FNT9wkTcCJ"
      },
      "execution_count": null,
      "outputs": []
    },
    {
      "cell_type": "code",
      "source": [],
      "metadata": {
        "id": "Yg3i7Lx6VJVO"
      },
      "execution_count": null,
      "outputs": []
    }
  ]
}